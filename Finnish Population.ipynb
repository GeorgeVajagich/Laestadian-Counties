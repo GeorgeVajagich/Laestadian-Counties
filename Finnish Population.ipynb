{
 "cells": [
  {
   "cell_type": "code",
   "execution_count": 1,
   "id": "f25aefd2-7f4a-41b0-8363-20e980b96dab",
   "metadata": {},
   "outputs": [
    {
     "name": "stderr",
     "output_type": "stream",
     "text": [
      "C:\\Users\\Geord\\AppData\\Local\\Temp\\ipykernel_8700\\2889458018.py:4: DeprecationWarning: Please import `pearsonr` from the `scipy.stats` namespace; the `scipy.stats.stats` namespace is deprecated and will be removed in SciPy 2.0.0.\n",
      "  from scipy.stats.stats import pearsonr\n"
     ]
    }
   ],
   "source": [
    "import requests\n",
    "import pandas as pd\n",
    "import matplotlib.pyplot as plt\n",
    "from scipy.stats.stats import pearsonr   \n",
    "import numpy as np\n",
    "\n",
    "pd.options.display.max_columns=None\n",
    "\n",
    "def json_to_dataframe(responce):\n",
    "    return pd.DataFrame(responce.json()[1:],columns=responce.json()[0])"
   ]
  },
  {
   "cell_type": "code",
   "execution_count": 2,
   "id": "83b643ee-decc-4cb2-976c-285483be64ef",
   "metadata": {},
   "outputs": [
    {
     "name": "stdout",
     "output_type": "stream",
     "text": [
      "PearsonRResult(statistic=-0.29619628036752177, pvalue=1.2648116464547393e-09)\n"
     ]
    },
    {
     "data": {
      "text/plain": [
       "<matplotlib.collections.PathCollection at 0x17a12e81130>"
      ]
     },
     "execution_count": 2,
     "metadata": {},
     "output_type": "execute_result"
    },
    {
     "data": {
      "image/png": "[encoded data removed]",
      "text/plain": [
       "<Figure size 640x480 with 1 Axes>"
      ]
     },
     "metadata": {},
     "output_type": "display_data"
    }
   ],
   "source": [
    "## under 18, doing all subdivisions in a county\n",
    "\n",
    "url=\"https://api.census.gov/data/2022/acs/acs5?get=NAME,group(B04006)&for=county%20subdivision:*&in=state:55&in=county:*&key=c4b9bb32ff21994e8a5da5f602dedf08ec1cf527\"\n",
    "responce=requests.request(\"GET\",url)\n",
    "ethnicData=json_to_dataframe(responce)\n",
    "ethnicData=ethnicData.sort_values(\"GEO_ID\")\n",
    "totalPopulation=ethnicData[\"B04006_001E\"].astype(int)\n",
    "finnishPopulation=ethnicData[\"B04006_039E\"].astype(int)\n",
    "finnishPercent=list(finnishPopulation/totalPopulation)\n",
    "\n",
    "url=\"https://api.census.gov/data/2022/acs/acs5?get=NAME,group(B09001)&for=county%20subdivision:*&in=state:55&in=county:*&key=c4b9bb32ff21994e8a5da5f602dedf08ec1cf527\"\n",
    "responce=requests.request(\"GET\",url)\n",
    "ageData=json_to_dataframe(responce)\n",
    "ageData=ageData.sort_values(\"GEO_ID\")\n",
    "under18=ageData[\"B09001_001E\"].astype(int)\n",
    "under18Percent=list(under18/totalPopulation)\n",
    "\n",
    "print(pearsonr(finnishPercent,under18Percent))\n",
    "\n",
    "plt.title(\"Wisconsin\")\n",
    "plt.scatter(finnishPercent,under18Percent)"
   ]
  },
  {
   "cell_type": "code",
   "execution_count": 3,
   "id": "7a455494-b36a-4f95-8648-41c993a695cc",
   "metadata": {},
   "outputs": [
    {
     "name": "stdout",
     "output_type": "stream",
     "text": [
      "PearsonRResult(statistic=-0.21968829083842698, pvalue=0.6757689657057445)\n",
      "PearsonRResult(statistic=0.6327428869474939, pvalue=0.2519321363340899)\n",
      "PearsonRResult(statistic=-0.09959515024641247, pvalue=0.7581153168069064)\n",
      "PearsonRResult(statistic=-0.5751912511070342, pvalue=0.42480874889296594)\n",
      "PearsonRResult(statistic=-0.0600993813856505, pvalue=0.9099594654703969)\n",
      "PearsonRResult(statistic=-0.5799221334906585, pvalue=0.17231913883498096)\n",
      "PearsonRResult(statistic=0.9323449904493785, pvalue=0.23551825027981274)\n",
      "PearsonRResult(statistic=0.8137306600800362, pvalue=0.09376122058410694)\n",
      "PearsonRResult(statistic=0.9214985840745217, pvalue=0.07850141592547821)\n",
      "PearsonRResult(statistic=0.28779141223389615, pvalue=0.42005752079845576)\n",
      "error\n",
      "PearsonRResult(statistic=-0.9292844825047387, pvalue=0.07071551749526117)\n",
      "PearsonRResult(statistic=0.7682757239157127, pvalue=0.44222997931886965)\n",
      "PearsonRResult(statistic=-0.14054455771367239, pvalue=0.8216439854597419)\n",
      "PearsonRResult(statistic=0.6068415020765218, pvalue=0.0831288601721506)\n",
      "PearsonRResult(statistic=-0.5783296987205804, pvalue=0.3070502306824913)\n",
      "PearsonRResult(statistic=-0.8869820250493954, pvalue=0.044828299362561566)\n",
      "PearsonRResult(statistic=0.08442507764239808, pvalue=0.842453555608792)\n",
      "PearsonRResult(statistic=0.438930823498825, pvalue=0.561069176501175)\n",
      "PearsonRResult(statistic=0.028483370124562597, pvalue=0.9197373053882013)\n",
      "PearsonRResult(statistic=0.27811082679365373, pvalue=0.5459093780717769)\n"
     ]
    }
   ],
   "source": [
    "## under 18, doing all counties in a state\n",
    "FIPS=[\"001\",\"003\",\"005\",\"007\",\"009\",\"011\",\"013\",\"015\",\"017\",\"019\",\"021\",\"023\",\"025\",\"027\",\"029\",\"031\",\"033\",\"035\",\"037\",\"039\",\"041\",\"043\",\"045\",\"047\",\"049\",\"051\",\"053\",\"055\",\"057\",\"059\",\"061\",\"063\",\"065\",\"067\",\"069\",\"071\"]\n",
    "for c in FIPS:\n",
    "    try:\n",
    "        url=\"https://api.census.gov/data/2022/acs/acs5?get=NAME,group(B04006)&for=county%20subdivision:*&in=state:41&in=county:\"+(c)+\"&key=c4b9bb32ff21994e8a5da5f602dedf08ec1cf527\"\n",
    "        responce=requests.request(\"GET\",url)\n",
    "        ethnicData=json_to_dataframe(responce)\n",
    "        ethnicData=ethnicData.sort_values(\"GEO_ID\")\n",
    "        totalPopulation=ethnicData[\"B04006_001E\"].astype(int)\n",
    "        finnishPopulation=ethnicData[\"B04006_039E\"].astype(int)\n",
    "        finnishPercent=list(finnishPopulation/totalPopulation)\n",
    "        \n",
    "        url=\"https://api.census.gov/data/2022/acs/acs5?get=NAME,group(B09001)&for=county%20subdivision:*&in=state:41&in=county:\"+(c)+\"&key=c4b9bb32ff21994e8a5da5f602dedf08ec1cf527\"\n",
    "        responce=requests.request(\"GET\",url)\n",
    "        ageData=json_to_dataframe(responce)\n",
    "        ageData=ageData.sort_values(\"GEO_ID\")\n",
    "        under18=ageData[\"B09001_001E\"].astype(int)\n",
    "        under18Percent=list(under18/totalPopulation)\n",
    "    \n",
    "        print(pearsonr(finnishPercent,under18Percent))\n",
    "    except:\n",
    "        print(\"error\")\n"
   ]
  },
  {
   "cell_type": "code",
   "execution_count": null,
   "id": "cb31309b-7567-4994-9651-311948c92d12",
   "metadata": {},
   "outputs": [],
   "source": [
    "#B11016008"
   ]
  },
  {
   "cell_type": "code",
   "execution_count": null,
   "id": "71a14ab2-43b3-4900-9931-c85175136b52",
   "metadata": {},
   "outputs": [],
   "source": [
    "## household size 7+, doing all counties in a state\n",
    "FIPS=[\"001\",\"003\",\"005\",\"007\",\"009\",\"011\",\"013\",\"015\",\"017\",\"019\",\"021\",\"023\",\"025\",\"027\",\"029\",\"031\",\"033\",\"035\",\"037\",\"039\",\"041\",\"043\",\"045\",\"047\",\"049\",\"051\",\"053\",\"055\",\"057\",\"059\",\"061\",\"063\",\"065\",\"067\",\"069\",\"071\",\"073\",\"075\",\"077\",\"078\",\"079\",\"081\",\"083\",\"085\",\"087\",\"089\",\"091\",\"093\",\"095\",\"097\",\"099\",\"101\",\"103\",\"105\",\"107\",\"111\",\"113\",\"115\",\"117\",\"109\",\"119\",\"121\",\"123\",\"125\",\"127\",\"129\",\"131\",\"133\",\"135\",\"137\",\"139\",\"141\"]\n",
    "for c in FIPS:\n",
    "    try:\n",
    "        url=\"https://api.census.gov/data/2022/acs/acs5?get=NAME,group(B04006)&for=county%20subdivision:*&in=state:55&in=county:\"+(c)+\"&key=c4b9bb32ff21994e8a5da5f602dedf08ec1cf527\"\n",
    "        responce=requests.request(\"GET\",url)\n",
    "        ethnicData=json_to_dataframe(responce)\n",
    "        ethnicData=ethnicData.sort_values(\"GEO_ID\")\n",
    "        totalPopulation=ethnicData[\"B04006_001E\"].astype(int)\n",
    "        finnishPopulation=ethnicData[\"B04006_039E\"].astype(int)\n",
    "        finnishPercent=list(finnishPopulation/totalPopulation)\n",
    "        \n",
    "        url=\"https://api.census.gov/data/2022/acs/acs5?get=NAME,group(B11016)&for=county%20subdivision:*&in=state:55&in=county:\"+(c)+\"&key=c4b9bb32ff21994e8a5da5f602dedf08ec1cf527\"\n",
    "        responce=requests.request(\"GET\",url)\n",
    "        sizeData=json_to_dataframe(responce)\n",
    "        sizeData=sizeData.sort_values(\"GEO_ID\")\n",
    "        totalHouseholds=sizeData[\"B11016_001E\"].astype(int)\n",
    "        sevenPlus=sizeData[\"B11016_008E\"].astype(int)\n",
    "        sevenPlusPercent=list(sevenPlus/totalHouseholds)\n",
    "    \n",
    "        print(pearsonr(finnishPercent,sevenPlusPercent))\n",
    "    except:\n",
    "        print(\"error\")\n"
   ]
  },
  {
   "cell_type": "code",
   "execution_count": null,
   "id": "f0656159-6b69-4d99-80bd-a05d7126a989",
   "metadata": {},
   "outputs": [],
   "source": []
  }
 ],
 "metadata": {
  "kernelspec": {
   "display_name": "Python 3 (ipykernel)",
   "language": "python",
   "name": "python3"
  },
  "language_info": {
   "codemirror_mode": {
    "name": "ipython",
    "version": 3
   },
   "file_extension": ".py",
   "mimetype": "text/x-python",
   "name": "python",
   "nbconvert_exporter": "python",
   "pygments_lexer": "ipython3",
   "version": "3.12.2"
  }
 },
 "nbformat": 4,
 "nbformat_minor": 5
}
